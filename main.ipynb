{
 "cells": [
  {
   "cell_type": "code",
   "id": "initial_id",
   "metadata": {
    "collapsed": true,
    "ExecuteTime": {
     "end_time": "2025-06-19T13:06:54.346647Z",
     "start_time": "2025-06-19T13:06:53.437491Z"
    }
   },
   "source": [
    "# Import libraries\n",
    "import pandas as pd\n",
    "from src.cleaning import cleaning\n",
    "from src.tokenisation import tokenisation\n",
    "from src.remove_stopwords import remove_stopwords\n",
    "from src.lemmatisation import lemmatize_dataframe"
   ],
   "outputs": [
    {
     "name": "stderr",
     "output_type": "stream",
     "text": [
      "[nltk_data] Downloading package averaged_perceptron_tagger_eng to\n",
      "[nltk_data]     C:\\Users\\krisf\\AppData\\Roaming\\nltk_data...\n",
      "[nltk_data]   Package averaged_perceptron_tagger_eng is already up-to-\n",
      "[nltk_data]       date!\n"
     ]
    }
   ],
   "execution_count": 1
  },
  {
   "metadata": {
    "ExecuteTime": {
     "end_time": "2025-06-19T13:07:17.681563Z",
     "start_time": "2025-06-19T13:06:54.533226Z"
    }
   },
   "cell_type": "code",
   "source": "df = pd.read_csv('./data/dataset.csv')",
   "id": "69e4eea9a96035ed",
   "outputs": [],
   "execution_count": 2
  },
  {
   "metadata": {
    "ExecuteTime": {
     "end_time": "2025-06-19T13:07:17.723249Z",
     "start_time": "2025-06-19T13:07:17.710059Z"
    }
   },
   "cell_type": "code",
   "source": "df.head()",
   "id": "3770360e1b6aa49e",
   "outputs": [
    {
     "data": {
      "text/plain": [
       "   app_id        app_name                                        review_text  \\\n",
       "0      10  Counter-Strike                                    Ruined my life.   \n",
       "1      10  Counter-Strike  This will be more of a ''my experience with th...   \n",
       "2      10  Counter-Strike                      This game saved my virginity.   \n",
       "3      10  Counter-Strike  • Do you like original games? • Do you like ga...   \n",
       "4      10  Counter-Strike           Easy to learn, hard to master.             \n",
       "\n",
       "   review_score  review_votes  \n",
       "0             1             0  \n",
       "1             1             1  \n",
       "2             1             0  \n",
       "3             1             0  \n",
       "4             1             1  "
      ],
      "text/html": [
       "<div>\n",
       "<style scoped>\n",
       "    .dataframe tbody tr th:only-of-type {\n",
       "        vertical-align: middle;\n",
       "    }\n",
       "\n",
       "    .dataframe tbody tr th {\n",
       "        vertical-align: top;\n",
       "    }\n",
       "\n",
       "    .dataframe thead th {\n",
       "        text-align: right;\n",
       "    }\n",
       "</style>\n",
       "<table border=\"1\" class=\"dataframe\">\n",
       "  <thead>\n",
       "    <tr style=\"text-align: right;\">\n",
       "      <th></th>\n",
       "      <th>app_id</th>\n",
       "      <th>app_name</th>\n",
       "      <th>review_text</th>\n",
       "      <th>review_score</th>\n",
       "      <th>review_votes</th>\n",
       "    </tr>\n",
       "  </thead>\n",
       "  <tbody>\n",
       "    <tr>\n",
       "      <th>0</th>\n",
       "      <td>10</td>\n",
       "      <td>Counter-Strike</td>\n",
       "      <td>Ruined my life.</td>\n",
       "      <td>1</td>\n",
       "      <td>0</td>\n",
       "    </tr>\n",
       "    <tr>\n",
       "      <th>1</th>\n",
       "      <td>10</td>\n",
       "      <td>Counter-Strike</td>\n",
       "      <td>This will be more of a ''my experience with th...</td>\n",
       "      <td>1</td>\n",
       "      <td>1</td>\n",
       "    </tr>\n",
       "    <tr>\n",
       "      <th>2</th>\n",
       "      <td>10</td>\n",
       "      <td>Counter-Strike</td>\n",
       "      <td>This game saved my virginity.</td>\n",
       "      <td>1</td>\n",
       "      <td>0</td>\n",
       "    </tr>\n",
       "    <tr>\n",
       "      <th>3</th>\n",
       "      <td>10</td>\n",
       "      <td>Counter-Strike</td>\n",
       "      <td>• Do you like original games? • Do you like ga...</td>\n",
       "      <td>1</td>\n",
       "      <td>0</td>\n",
       "    </tr>\n",
       "    <tr>\n",
       "      <th>4</th>\n",
       "      <td>10</td>\n",
       "      <td>Counter-Strike</td>\n",
       "      <td>Easy to learn, hard to master.</td>\n",
       "      <td>1</td>\n",
       "      <td>1</td>\n",
       "    </tr>\n",
       "  </tbody>\n",
       "</table>\n",
       "</div>"
      ]
     },
     "execution_count": 3,
     "metadata": {},
     "output_type": "execute_result"
    }
   ],
   "execution_count": 3
  },
  {
   "metadata": {
    "ExecuteTime": {
     "end_time": "2025-06-19T13:07:52.609581Z",
     "start_time": "2025-06-19T13:07:17.774248Z"
    }
   },
   "cell_type": "code",
   "source": [
    "df_cleaned = cleaning(df, \"review_text\")\n",
    "df_cleaned.head()\n",
    "\n",
    "df_5_rows = df_cleaned.head(5)"
   ],
   "id": "87b45ac2b2fa1050",
   "outputs": [],
   "execution_count": 4
  },
  {
   "metadata": {
    "ExecuteTime": {
     "end_time": "2025-06-19T13:07:53.112823Z",
     "start_time": "2025-06-19T13:07:53.106497Z"
    }
   },
   "cell_type": "code",
   "source": [
    "df_tokenised = tokenisation(df_5_rows, \"review_text\")\n",
    "df_tokenised['review_text'].head()"
   ],
   "id": "8e3e2e02d31a17c3",
   "outputs": [
    {
     "data": {
      "text/plain": [
       "0                                       ruined,my,life\n",
       "1    this,will,be,more,of,a,my,experience,with,this...\n",
       "2                         this,game,saved,my,virginity\n",
       "3    do,you,like,original,games,do,you,like,games,t...\n",
       "4                         easy,to,learn,hard,to,master\n",
       "Name: review_text, dtype: object"
      ]
     },
     "execution_count": 5,
     "metadata": {},
     "output_type": "execute_result"
    }
   ],
   "execution_count": 5
  },
  {
   "metadata": {
    "ExecuteTime": {
     "end_time": "2025-06-19T13:07:53.193404Z",
     "start_time": "2025-06-19T13:07:53.184439Z"
    }
   },
   "cell_type": "code",
   "source": [
    "df_without_stopwords = remove_stopwords(df_tokenised, \"review_text\")\n",
    "df_without_stopwords['review_text'].head()"
   ],
   "id": "a451f12ba3aed5dc",
   "outputs": [
    {
     "data": {
      "text/plain": [
       "0                                          ruined,life\n",
       "1    experience,game,type,review,saying,things,like...\n",
       "2                                 game,saved,virginity\n",
       "3    like,original,games,like,games,dont,lag,like,g...\n",
       "4                               easy,learn,hard,master\n",
       "Name: review_text, dtype: object"
      ]
     },
     "execution_count": 6,
     "metadata": {},
     "output_type": "execute_result"
    }
   ],
   "execution_count": 6
  },
  {
   "metadata": {
    "ExecuteTime": {
     "end_time": "2025-06-19T13:07:55.959928Z",
     "start_time": "2025-06-19T13:07:53.349594Z"
    }
   },
   "cell_type": "code",
   "source": [
    "df_lemmatised = lemmatize_dataframe(df_without_stopwords, \"review_text\")\n",
    "df_lemmatised['review_text'].head()"
   ],
   "id": "ff52b799a0db5683",
   "outputs": [
    {
     "data": {
      "text/plain": [
       "0                                           ruin, life\n",
       "1    experience, game, type, review, say, thing, li...\n",
       "2                                game, save, virginity\n",
       "3    like, original, game, like, game, dont, lag, l...\n",
       "4                            easy, learn, hard, master\n",
       "Name: review_text, dtype: object"
      ]
     },
     "execution_count": 7,
     "metadata": {},
     "output_type": "execute_result"
    }
   ],
   "execution_count": 7
  },
  {
   "metadata": {},
   "cell_type": "code",
   "outputs": [],
   "execution_count": null,
   "source": "",
   "id": "cb5a342e211a54bf"
  }
 ],
 "metadata": {
  "kernelspec": {
   "display_name": "Python 3",
   "language": "python",
   "name": "python3"
  },
  "language_info": {
   "codemirror_mode": {
    "name": "ipython",
    "version": 2
   },
   "file_extension": ".py",
   "mimetype": "text/x-python",
   "name": "python",
   "nbconvert_exporter": "python",
   "pygments_lexer": "ipython2",
   "version": "2.7.6"
  }
 },
 "nbformat": 4,
 "nbformat_minor": 5
}
