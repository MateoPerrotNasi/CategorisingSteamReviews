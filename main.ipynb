{
 "cells": [
  {
   "cell_type": "code",
   "id": "initial_id",
   "metadata": {
    "collapsed": true,
    "ExecuteTime": {
     "end_time": "2025-06-20T09:03:52.282593Z",
     "start_time": "2025-06-20T09:03:45.292679Z"
    }
   },
   "source": [
    "# Import libraries\n",
    "import pandas as pd\n",
    "from src.cleaning import cleaning\n",
    "from src.tokenisation import tokenisation\n",
    "from src.remove_stopwords import remove_stopwords\n",
    "from src.lemmatisation import lemmatize_dataframe\n",
    "from sklearn.feature_extraction.text import TfidfVectorizer"
   ],
   "outputs": [
    {
     "name": "stderr",
     "output_type": "stream",
     "text": [
      "[nltk_data] Downloading package averaged_perceptron_tagger_eng to\n",
      "[nltk_data]     C:\\Users\\krisf\\AppData\\Roaming\\nltk_data...\n",
      "[nltk_data]   Package averaged_perceptron_tagger_eng is already up-to-\n",
      "[nltk_data]       date!\n"
     ]
    }
   ],
   "execution_count": 1
  },
  {
   "metadata": {
    "ExecuteTime": {
     "end_time": "2025-06-20T09:18:07.234968Z",
     "start_time": "2025-06-20T09:16:28.246165Z"
    }
   },
   "cell_type": "code",
   "source": "df = pd.read_csv('./data/dataset.csv')",
   "id": "69e4eea9a96035ed",
   "outputs": [],
   "execution_count": 2
  },
  {
   "metadata": {
    "ExecuteTime": {
     "end_time": "2025-06-20T09:18:07.951839Z",
     "start_time": "2025-06-20T09:18:07.897903Z"
    }
   },
   "cell_type": "code",
   "source": "df.head()",
   "id": "3770360e1b6aa49e",
   "outputs": [
    {
     "data": {
      "text/plain": [
       "   app_id        app_name                                        review_text  \\\n",
       "0      10  Counter-Strike                                    Ruined my life.   \n",
       "1      10  Counter-Strike  This will be more of a ''my experience with th...   \n",
       "2      10  Counter-Strike                      This game saved my virginity.   \n",
       "3      10  Counter-Strike  • Do you like original games? • Do you like ga...   \n",
       "4      10  Counter-Strike           Easy to learn, hard to master.             \n",
       "\n",
       "   review_score  review_votes  \n",
       "0             1             0  \n",
       "1             1             1  \n",
       "2             1             0  \n",
       "3             1             0  \n",
       "4             1             1  "
      ],
      "text/html": [
       "<div>\n",
       "<style scoped>\n",
       "    .dataframe tbody tr th:only-of-type {\n",
       "        vertical-align: middle;\n",
       "    }\n",
       "\n",
       "    .dataframe tbody tr th {\n",
       "        vertical-align: top;\n",
       "    }\n",
       "\n",
       "    .dataframe thead th {\n",
       "        text-align: right;\n",
       "    }\n",
       "</style>\n",
       "<table border=\"1\" class=\"dataframe\">\n",
       "  <thead>\n",
       "    <tr style=\"text-align: right;\">\n",
       "      <th></th>\n",
       "      <th>app_id</th>\n",
       "      <th>app_name</th>\n",
       "      <th>review_text</th>\n",
       "      <th>review_score</th>\n",
       "      <th>review_votes</th>\n",
       "    </tr>\n",
       "  </thead>\n",
       "  <tbody>\n",
       "    <tr>\n",
       "      <th>0</th>\n",
       "      <td>10</td>\n",
       "      <td>Counter-Strike</td>\n",
       "      <td>Ruined my life.</td>\n",
       "      <td>1</td>\n",
       "      <td>0</td>\n",
       "    </tr>\n",
       "    <tr>\n",
       "      <th>1</th>\n",
       "      <td>10</td>\n",
       "      <td>Counter-Strike</td>\n",
       "      <td>This will be more of a ''my experience with th...</td>\n",
       "      <td>1</td>\n",
       "      <td>1</td>\n",
       "    </tr>\n",
       "    <tr>\n",
       "      <th>2</th>\n",
       "      <td>10</td>\n",
       "      <td>Counter-Strike</td>\n",
       "      <td>This game saved my virginity.</td>\n",
       "      <td>1</td>\n",
       "      <td>0</td>\n",
       "    </tr>\n",
       "    <tr>\n",
       "      <th>3</th>\n",
       "      <td>10</td>\n",
       "      <td>Counter-Strike</td>\n",
       "      <td>• Do you like original games? • Do you like ga...</td>\n",
       "      <td>1</td>\n",
       "      <td>0</td>\n",
       "    </tr>\n",
       "    <tr>\n",
       "      <th>4</th>\n",
       "      <td>10</td>\n",
       "      <td>Counter-Strike</td>\n",
       "      <td>Easy to learn, hard to master.</td>\n",
       "      <td>1</td>\n",
       "      <td>1</td>\n",
       "    </tr>\n",
       "  </tbody>\n",
       "</table>\n",
       "</div>"
      ]
     },
     "execution_count": 3,
     "metadata": {},
     "output_type": "execute_result"
    }
   ],
   "execution_count": 3
  },
  {
   "metadata": {
    "ExecuteTime": {
     "end_time": "2025-06-20T09:20:44.450245Z",
     "start_time": "2025-06-20T09:18:08.448560Z"
    }
   },
   "cell_type": "code",
   "source": [
    "df_cleaned = cleaning(df, \"review_text\")\n",
    "df_cleaned.head()\n",
    "\n",
    "df_5_rows = df_cleaned.head(5)"
   ],
   "id": "87b45ac2b2fa1050",
   "outputs": [],
   "execution_count": 4
  },
  {
   "metadata": {
    "ExecuteTime": {
     "end_time": "2025-06-20T09:20:46.771622Z",
     "start_time": "2025-06-20T09:20:46.742768Z"
    }
   },
   "cell_type": "code",
   "source": [
    "df_tokenised = tokenisation(df_5_rows, \"review_text\")\n",
    "df_tokenised['review_text'].head()"
   ],
   "id": "8e3e2e02d31a17c3",
   "outputs": [
    {
     "data": {
      "text/plain": [
       "0                                       ruined,my,life\n",
       "1    this,will,be,more,of,a,my,experience,with,this...\n",
       "2                         this,game,saved,my,virginity\n",
       "3    do,you,like,original,games,do,you,like,games,t...\n",
       "4                         easy,to,learn,hard,to,master\n",
       "Name: review_text, dtype: object"
      ]
     },
     "execution_count": 5,
     "metadata": {},
     "output_type": "execute_result"
    }
   ],
   "execution_count": 5
  },
  {
   "metadata": {
    "ExecuteTime": {
     "end_time": "2025-06-20T09:20:47.100020Z",
     "start_time": "2025-06-20T09:20:47.044222Z"
    }
   },
   "cell_type": "code",
   "source": [
    "df_without_stopwords = remove_stopwords(df_tokenised, \"review_text\")\n",
    "df_without_stopwords['review_text'].head()"
   ],
   "id": "a451f12ba3aed5dc",
   "outputs": [
    {
     "data": {
      "text/plain": [
       "0                                          ruined,life\n",
       "1    experience,game,type,review,saying,things,like...\n",
       "2                                 game,saved,virginity\n",
       "3    like,original,games,like,games,dont,lag,like,g...\n",
       "4                               easy,learn,hard,master\n",
       "Name: review_text, dtype: object"
      ]
     },
     "execution_count": 6,
     "metadata": {},
     "output_type": "execute_result"
    }
   ],
   "execution_count": 6
  },
  {
   "metadata": {
    "ExecuteTime": {
     "end_time": "2025-06-20T09:21:00.270449Z",
     "start_time": "2025-06-20T09:20:47.625252Z"
    }
   },
   "cell_type": "code",
   "source": [
    "df_lemmatised = lemmatize_dataframe(df_without_stopwords, \"review_text\")\n",
    "df_lemmatised['review_text'].head()"
   ],
   "id": "ff52b799a0db5683",
   "outputs": [
    {
     "data": {
      "text/plain": [
       "0                                           ruin, life\n",
       "1    experience, game, type, review, say, thing, li...\n",
       "2                                game, save, virginity\n",
       "3    like, original, game, like, game, dont, lag, l...\n",
       "4                            easy, learn, hard, master\n",
       "Name: review_text, dtype: object"
      ]
     },
     "execution_count": 7,
     "metadata": {},
     "output_type": "execute_result"
    }
   ],
   "execution_count": 7
  },
  {
   "metadata": {
    "ExecuteTime": {
     "end_time": "2025-06-20T09:52:07.529857Z",
     "start_time": "2025-06-20T09:52:07.520860Z"
    }
   },
   "cell_type": "code",
   "source": [
    "tfidf = TfidfVectorizer(max_features=5000)\n",
    "\n",
    "X_tfidf = tfidf.fit_transform(df_lemmatised['review_text'])\n",
    "\n",
    "print(X_tfidf)"
   ],
   "id": "59ea98b35f234f86",
   "outputs": [
    {
     "name": "stdout",
     "output_type": "stream",
     "text": [
      "  (0, 109)\t0.7071067811865475\n",
      "  (0, 70)\t0.7071067811865475\n",
      "  (1, 42)\t0.17383250166336944\n",
      "  (1, 48)\t0.4365661961399187\n",
      "  (1, 139)\t0.04345812541584236\n",
      "  (1, 107)\t0.04345812541584236\n",
      "  (1, 113)\t0.04345812541584236\n",
      "  (1, 131)\t0.04345812541584236\n",
      "  (1, 71)\t0.17530870975446441\n",
      "  (1, 53)\t0.08691625083168472\n",
      "  (1, 50)\t0.13037437624752707\n",
      "  (1, 127)\t0.04345812541584236\n",
      "  (1, 122)\t0.04345812541584236\n",
      "  (1, 65)\t0.13037437624752707\n",
      "  (1, 22)\t0.26074875249505414\n",
      "  (1, 52)\t0.17383250166336944\n",
      "  (1, 106)\t0.04345812541584236\n",
      "  (1, 9)\t0.13037437624752707\n",
      "  (1, 46)\t0.17383250166336944\n",
      "  (1, 61)\t0.08691625083168472\n",
      "  (1, 100)\t0.3476650033267389\n",
      "  (1, 31)\t0.08691625083168472\n",
      "  (1, 67)\t0.17383250166336944\n",
      "  (1, 90)\t0.04345812541584236\n",
      "  (1, 63)\t0.04345812541584236\n",
      "  :\t:\n",
      "  (1, 76)\t0.04345812541584236\n",
      "  (1, 94)\t0.04345812541584236\n",
      "  (1, 86)\t0.04345812541584236\n",
      "  (1, 55)\t0.035061741950892886\n",
      "  (1, 133)\t0.04345812541584236\n",
      "  (2, 48)\t0.46220770413113277\n",
      "  (2, 111)\t0.5568161504458247\n",
      "  (2, 141)\t0.6901592662889633\n",
      "  (3, 48)\t0.47661423618259774\n",
      "  (3, 71)\t0.5741715290915584\n",
      "  (3, 95)\t0.1779177026944\n",
      "  (3, 35)\t0.3558354053888\n",
      "  (3, 68)\t0.1779177026944\n",
      "  (3, 110)\t0.1779177026944\n",
      "  (3, 77)\t0.1779177026944\n",
      "  (3, 38)\t0.1779177026944\n",
      "  (3, 97)\t0.1779177026944\n",
      "  (3, 82)\t0.1779177026944\n",
      "  (3, 15)\t0.1779177026944\n",
      "  (3, 121)\t0.1779177026944\n",
      "  (3, 88)\t0.1779177026944\n",
      "  (4, 55)\t0.4222421409859579\n",
      "  (4, 37)\t0.5233582502695435\n",
      "  (4, 69)\t0.5233582502695435\n",
      "  (4, 81)\t0.5233582502695435\n"
     ]
    }
   ],
   "execution_count": 13
  },
  {
   "metadata": {
    "ExecuteTime": {
     "end_time": "2025-06-20T09:54:34.627437Z",
     "start_time": "2025-06-20T09:54:34.620816Z"
    }
   },
   "cell_type": "code",
   "source": "",
   "id": "6b02a0586d9d312e",
   "outputs": [
    {
     "data": {
      "text/plain": [
       "'life'"
      ]
     },
     "execution_count": 19,
     "metadata": {},
     "output_type": "execute_result"
    }
   ],
   "execution_count": 19
  },
  {
   "metadata": {},
   "cell_type": "code",
   "outputs": [],
   "execution_count": null,
   "source": "",
   "id": "e124ac5eb36d76a7"
  }
 ],
 "metadata": {
  "kernelspec": {
   "display_name": "Python 3",
   "language": "python",
   "name": "python3"
  },
  "language_info": {
   "codemirror_mode": {
    "name": "ipython",
    "version": 2
   },
   "file_extension": ".py",
   "mimetype": "text/x-python",
   "name": "python",
   "nbconvert_exporter": "python",
   "pygments_lexer": "ipython2",
   "version": "2.7.6"
  }
 },
 "nbformat": 4,
 "nbformat_minor": 5
}
